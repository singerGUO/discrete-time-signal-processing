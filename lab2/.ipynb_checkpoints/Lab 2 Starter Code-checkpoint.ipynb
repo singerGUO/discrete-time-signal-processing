{
 "cells": [
  {
   "cell_type": "markdown",
   "metadata": {},
   "source": [
    "# Lab 2 - The Discrete Fourier Transform\n",
    "\n",
    "Instructor: Prof. Lillian Jane Ratliff\n",
    "\n",
    "Teaching Assistants: Ashwin Srinivas Badrinath and Kevin Lin"
   ]
  },
  {
   "cell_type": "markdown",
   "metadata": {},
   "source": [
    "Team Members:"
   ]
  },
  {
   "cell_type": "code",
   "execution_count": 1,
   "metadata": {},
   "outputs": [],
   "source": [
    "import numpy as np\n",
    "import math\n",
    "from math import *\n",
    "import matplotlib\n",
    "import matplotlib.pyplot as plt\n",
    "from scipy.fftpack import fft, fftshift"
   ]
  },
  {
   "cell_type": "markdown",
   "metadata": {},
   "source": [
    "## 1) Complex Numbers and Complex Sinusoids"
   ]
  },
  {
   "cell_type": "code",
   "execution_count": null,
   "metadata": {},
   "outputs": [],
   "source": [
    "# writing the complex number as real + imaginary\n",
    "z1 = \n",
    "\n",
    "# using the function complex\n",
    "z2 =    \n",
    "z3 = \n",
    "print(z1)\n",
    "print(z2)\n",
    "print(z3)\n",
    "\n",
    "# add the real part of 4+3j and the imaginary part of \n",
    "# 5+7j and display the result\n",
    "\n",
    "# subtract the imaginary part of 4+3j from the real part of\n",
    "# 5+7j and display the result\n",
    "\n",
    "# multiply 4+3j and 4-3j and dislay the result\n",
    "\n",
    "# divide 7+5j and 7-5j and display the result"
   ]
  },
  {
   "cell_type": "code",
   "execution_count": null,
   "metadata": {},
   "outputs": [],
   "source": [
    "# define a complex number\n",
    "z = \n",
    "\n",
    "# obtain the real and imaginary parts of the complex number\n",
    "real = \n",
    "imaginary = \n",
    "\n",
    "# plot the complex number on the complex plane\n",
    "plt.plot((0,real),(0,imaginary),'ro--')\n",
    "\n",
    "# some plotting touch-ups\n",
    "plt.axis('square')\n",
    "plt.axis([-5, 5, -5, 5])\n",
    "plt.grid(True)\n",
    "plt.xlabel('Real axis'), plt.ylabel('Imaginary axis')\n",
    "plt.show()"
   ]
  },
  {
   "cell_type": "code",
   "execution_count": null,
   "metadata": {},
   "outputs": [],
   "source": [
    "# compute the magnitude of the complex number using \n",
    "# Pythagorean theorem\n",
    "mag1 = \n",
    "# or using abs\n",
    "mag2 = \n",
    "# print out the magnitude of the complex number\n",
    "print( 'The magnitude is',mag1,'or',mag2 )\n",
    "\n",
    "# compute the angle of the complex number using trigonometry\n",
    "phs1 = \n",
    "# or using the angle function\n",
    "phs2 = \n",
    "# print out the phase of the complex number\n",
    "print( 'The angle is', phs2,'or',phs1 )"
   ]
  },
  {
   "cell_type": "code",
   "execution_count": null,
   "metadata": {},
   "outputs": [],
   "source": [
    "# [cos(k),sin(k)] is on the unit circle for any real k\n",
    "\n",
    "# define k (possibly an array of angles)\n",
    "k = \n",
    "\n",
    "# Euler's notation\n",
    "\n",
    "# Define the complex exponential here (possibly with a lambda\n",
    "# expression)\n",
    "\n",
    "euler = \n",
    "\n",
    "# plot dot\n",
    "\n",
    "\n",
    "\n",
    "# draw unit circle for reference\n",
    "\n",
    "\n",
    "# some plotting touch-ups\n",
    "plt.axis('square')\n",
    "plt.grid(True)\n",
    "plt.xlabel('Real axis'), plt.ylabel('Imaginary axis')\n",
    "plt.show()"
   ]
  },
  {
   "cell_type": "code",
   "execution_count": null,
   "metadata": {},
   "outputs": [],
   "source": [
    "# complex sine waves\n",
    "\n",
    "# general simulation parameters\n",
    "srate =  # sampling rate in Hz\n",
    "time  =  # time in seconds\n",
    "\n",
    "# sine wave parameters\n",
    "freq =     # frequency in Hz\n",
    "ampl =     # amplitude in a.u.\n",
    "phase =  # phase in radians\n",
    "\n",
    "# generate the sine wave\n",
    "csw = \n",
    "\n",
    "# plot the results\n"
   ]
  },
  {
   "cell_type": "code",
   "execution_count": null,
   "metadata": {},
   "outputs": [],
   "source": [
    "points = 16 # number of time points , sometimes denoted by N\n",
    "\n",
    "# time vector to plot the basis\n",
    "FourierTime = np.array(range(0,points))/points \n",
    "\n",
    "# the slowest frequency in an N point sinusoid in Hz\n",
    "slowest =  \n",
    "# the fastest frequency in an N point sinusoid in Hz\n",
    "fastest = \n",
    "\n",
    "for fi in range(slowest,fastest):\n",
    "    # create complex sine wave\n",
    "    csw = \n",
    "    \n",
    "    # and plot it\n",
    "    loc = np.unravel_index(fi,[4, 4],'F')\n",
    "    plt.subplot2grid((4,4),(loc[1],loc[0]))\n",
    "    plt.plot(FourierTime,np.real(csw))\n",
    "    plt.plot(FourierTime,np.imag(csw))\n",
    "\n",
    "plt.show()"
   ]
  },
  {
   "cell_type": "markdown",
   "metadata": {},
   "source": [
    "## 2) Naive Computation of the DFT and IDFT from First Principles (Vector Form)"
   ]
  },
  {
   "cell_type": "code",
   "execution_count": null,
   "metadata": {},
   "outputs": [],
   "source": [
    "## The DFT in loop-form\n",
    "\n",
    "# create the signal 1\n",
    "signal1 = \n",
    "\n",
    "# create the signal 2\n",
    "signal2 = \n",
    "\n",
    "# prepare the Fourier transform for signal 1\n",
    "fourTime1 = np.array(range(0,pnts1))/pnts1\n",
    "fCoefs1  = np.zeros((len(signal1)),dtype=complex) \n",
    "\n",
    "# prepare the Fourier transform for signal 2\n",
    "fourTime2 = np.array(range(0,pnts2))/pnts2\n",
    "fCoefs2   = np.zeros(len(signal2),dtype=complex)\n",
    "\n",
    "for fi in range(0,pnts1):\n",
    "    \n",
    "    # create complex sine wave\n",
    "    csw1 = \n",
    "    \n",
    "    # compute dot product between sine wave and signal\n",
    "    # these are called the Fourier coefficients\n",
    "    fCoefs1[fi] = \n",
    "    \n",
    "\n",
    "for fi in range(0,pnts2):\n",
    "    # create complex sine wave and compute dot product with signal\n",
    "    csw2 = \n",
    "    \n",
    "    fCoefs2[fi] = \n",
    "\n",
    "\n",
    "# extract amplitudes for the spectrum of signal 1\n",
    "ampls1 = 2*np.abs(fCoefs1)\n",
    "\n",
    "# extract amplitudes for the spectrum of signal 2\n",
    "ampls2 = 2*np.abs(fCoefs2);\n",
    "\n",
    "\n",
    "# compute frequencies vector for the spectrum of signal 1\n",
    "hz1 = np.linspace(0,srate1/2,num=math.floor(pnts1/2.)+1)\n",
    "\n",
    "# compute frequencies vector for the spectrum of signal 2\n",
    "hz2 = np.linspace(0,srate2/2,num=math.floor(pnts2/2.)+1)\n",
    "\n",
    "fig1 = plt.figure(1)\n",
    "plt.stem(hz1,ampls1[range(0,len(hz1))])\n",
    "plt.xlabel('Frequency (Hz)'), plt.ylabel('Amplitude')\n",
    "plt.xlim(0,10)\n",
    "\n",
    "fig2 = plt.figure(2)\n",
    "plt.stem(hz2,ampls2[0:len(hz2)])\n",
    "plt.xlim(-.1,10)\n",
    "plt.xlabel('Frequency (Hz)'), plt.ylabel('Amplitude')\n",
    "plt.show()"
   ]
  },
  {
   "cell_type": "code",
   "execution_count": null,
   "metadata": {},
   "outputs": [],
   "source": [
    "# IDFT (vector)\n",
    "\n",
    "# initialize time-domain reconstruction for signal 1\n",
    "reconSignal1 = \n",
    "# initialize time-domain reconstruction for signal 2\n",
    "reconSignal2 = \n",
    "\n",
    "for fi in range(0,pnts1):\n",
    "    \n",
    "    # create coefficient-modulated complex sine wave\n",
    "    inv_csw1 = \n",
    "    \n",
    "    # sum them together\n",
    "    reconSignal1 = \n",
    "    \n",
    "for fi in range(0,pnts2):\n",
    "    \n",
    "    # create coefficient-modulated complex sine wave\n",
    "    inv_csw2 = \n",
    "    \n",
    "    # sum them together\n",
    "    reconSignal2 = \n",
    "\n",
    "#plot the results for signal 1\n",
    "\n",
    " \n",
    "#plot the results for signal 2\n"
   ]
  },
  {
   "cell_type": "markdown",
   "metadata": {},
   "source": [
    "## 3) Naive Computation of the DFT and IDFT from First Principles (Matrix Form)"
   ]
  },
  {
   "cell_type": "code",
   "execution_count": null,
   "metadata": {},
   "outputs": [],
   "source": [
    "def dft_matrix(N):\n",
    "    # create a 1xN matrix containing indices 0 to N-1\n",
    "    \n",
    "    \n",
    "    # take advantage of numpy broadcasting to create the matrix\n",
    "    \n",
    "    ## OR\n",
    "    \n",
    "    # use a nested for loop to populate an NxN matrix\n",
    "    \n",
    "    \n",
    "    return W"
   ]
  },
  {
   "cell_type": "code",
   "execution_count": null,
   "metadata": {},
   "outputs": [],
   "source": [
    "def dft(signal,N):\n",
    "    \n",
    "    # Obtain DFT matrix for signal \n",
    "    W = \n",
    "    # Find the DFT for signal\n",
    "    X = \n",
    "    # return the DFT\n",
    "    \n",
    "    return X"
   ]
  },
  {
   "cell_type": "code",
   "execution_count": null,
   "metadata": {},
   "outputs": [],
   "source": [
    "def dft_shift(X):\n",
    "    N = int(len(X))\n",
    "    if (# check if even):\n",
    "        # even-length: return N+1 values\n",
    "        \n",
    "         # specify the range of frequency bins in the DFT\n",
    "        n = \n",
    "        # create the shifted spectrum\n",
    "        Y = \n",
    "        return n,Y\n",
    "    else:\n",
    "        # odd-length: return N values\n",
    "        \n",
    "        # specify the range of frequency bins in the DFT\n",
    "        n = \n",
    "        # create the shifted spectrum\n",
    "        Y = \n",
    "        \n",
    "        return n,Y"
   ]
  },
  {
   "cell_type": "code",
   "execution_count": null,
   "metadata": {},
   "outputs": [],
   "source": [
    "# test your shift function here\n",
    "\n",
    "x = np.arange(0, 1.02, 0.02) - 0.5 # test signal\n",
    "X = dft(x,len(x)) # obtain DFT of the test signal\n",
    "\n",
    "fig_test=plt.figure(100)\n",
    "fig_test.subplots_adjust(hspace=1, wspace=1, left = 0.1)\n",
    "# plot the spectrum without shift\n",
    "plt.subplot(2,1,1)\n",
    "plt.stem(2*abs(X));\n",
    "plt.title('Spectrum Without Shift')\n",
    "\n",
    "n, y = dft_shift(X) # obtain shifted spectrum\n",
    "# plot the shifted spectrum\n",
    "plt.subplot(2,1,2)\n",
    "plt.stem(n, 2*abs(y));\n",
    "plt.title('Shifted Spectrum')"
   ]
  },
  {
   "cell_type": "code",
   "execution_count": null,
   "metadata": {},
   "outputs": [],
   "source": [
    "def dft_map(X, Fs, shift):\n",
    "    # define the resolution\n",
    "    resolution =  \n",
    "    \n",
    "    if shift:\n",
    "        # apply a shift if the condition is True\n",
    "        \n",
    "        # get both the frequency bins and the shifted spectrum\n",
    "        n, Y =  \n",
    "    else:\n",
    "        Y =  # retain the original spectrum for no shift\n",
    "        \n",
    "        # the range of frequency bins is from 0 to \n",
    "        # the length of the signal for no shift\n",
    "        n = \n",
    "        \n",
    "    f =  # obtain frequency vector\n",
    "    \n",
    "    return f, Y"
   ]
  },
  {
   "cell_type": "code",
   "execution_count": null,
   "metadata": {},
   "outputs": [],
   "source": [
    "# Find the DFT for signal 1\n",
    "X1 = \n",
    "# obtain absolute value\n",
    "absX1 = 2*abs(X1)\n",
    "# plot the result\n",
    "\n",
    "\n",
    "# Find the DFT for signal 2\n",
    "X2 = \n",
    "# obtain absolute value\n",
    "absX2 = 2*abs(X2)\n",
    "# plot the result\n"
   ]
  },
  {
   "cell_type": "code",
   "execution_count": null,
   "metadata": {},
   "outputs": [],
   "source": [
    "# IDFT (matrix)\n",
    "\n",
    "# Obtain the DFT matrix\n",
    "W1 = \n",
    "# inverse DFT fo signal 1\n",
    "x_hat1 = \n",
    "# plot the result\n",
    "\n",
    "\n",
    "# Obtain the DFT matrix\n",
    "W2 = \n",
    "# inverse DFT for signal 2\n",
    "x_hat2 = \n",
    "# plot the result\n",
    "\n"
   ]
  },
  {
   "cell_type": "markdown",
   "metadata": {},
   "source": [
    "## 4) Numerical Precision Issues With the DFT and IDFT"
   ]
  },
  {
   "cell_type": "code",
   "execution_count": null,
   "metadata": {},
   "outputs": [],
   "source": [
    "# define a discrete step function\n",
    "def u(n):\n",
    "    return ??"
   ]
  },
  {
   "cell_type": "code",
   "execution_count": null,
   "metadata": {},
   "outputs": [],
   "source": [
    "N = 128 # define the number of points in the discrete time pulse\n",
    "n =  # discrete time index values\n",
    "pulse =  # obtain the discrete pulse\n",
    "# plot the pulse\n"
   ]
  },
  {
   "cell_type": "code",
   "execution_count": null,
   "metadata": {},
   "outputs": [],
   "source": [
    "P =  # obtain the DFT of the pulse using your DFT function\n",
    "\n",
    "# plot the magnitude and phase of the pulse's spectrum\n"
   ]
  },
  {
   "cell_type": "code",
   "execution_count": null,
   "metadata": {},
   "outputs": [],
   "source": [
    "# Obtain the DFT using scipy or numpy's fft function\n",
    "P =  \n",
    "\n",
    "# plot the magnitude and phase of the pulse's spectrum\n"
   ]
  },
  {
   "cell_type": "code",
   "execution_count": null,
   "metadata": {},
   "outputs": [],
   "source": [
    "# Obtain the N point DFT matrix\n",
    "W = \n",
    "# use the IDFT to obtain the reconstructed time-domain signal\n",
    "x_hat =  \n",
    "\n",
    "# plot the error (for both, imaginary and real parts) \n",
    "# between the original signal and the reconstructed signal\n"
   ]
  },
  {
   "cell_type": "code",
   "execution_count": null,
   "metadata": {},
   "outputs": [],
   "source": [
    "# use the IDFT function in scipy or numpy\n",
    "# to obtain the reconstructed time-domain signal\n",
    "x_hat = \n",
    "\n",
    "# plot the error (for both, imaginary and real parts) \n",
    "# between the original signal and the reconstructed signal\n"
   ]
  },
  {
   "cell_type": "markdown",
   "metadata": {},
   "source": [
    "## 5) Minimizing Energy Spread and Zero Padding"
   ]
  },
  {
   "cell_type": "code",
   "execution_count": null,
   "metadata": {},
   "outputs": [],
   "source": [
    "def minimizeEnergySpreadDFT(x, fs, f1, f2):\n",
    "\n",
    "    t1 =  # time period of the discrete time or sampled signal\n",
    "    t2 =  # time period of the discrete time or sampled signal\n",
    "    M =  # LCM of the two periods\n",
    "\n",
    "    X =  # M point FFT of the signal\n",
    "    \n",
    "    # obtain the frequency mapping and shifted spectrum\n",
    "    f,mX =  \n",
    "    \n",
    "    return mX,f"
   ]
  },
  {
   "cell_type": "code",
   "execution_count": null,
   "metadata": {},
   "outputs": [],
   "source": [
    "#Define the sampling rate and the signal\n",
    "\n",
    "\n",
    "# Plot the DFT after minimizing the energy spread or spectral\n",
    "# leakage\n",
    "\n",
    "\n",
    "\n",
    "# Plot the DFT before minimizing the energy spread or spectral\n",
    "# leakage\n"
   ]
  },
  {
   "cell_type": "code",
   "execution_count": null,
   "metadata": {},
   "outputs": [],
   "source": [
    "def optimalZeropad(x, fs, f):\n",
    "  \n",
    "    M =  # store the length of the signal\n",
    "    \n",
    "    # calculate the number of zeros to be padded\n",
    "    period_samples = \n",
    "    fraction = \n",
    "    pad = \n",
    "    \n",
    "    N =  # find the length of the signal after zero padding\n",
    "    \n",
    "    x =  # pad the signal with zeros\n",
    "    \n",
    "    X =  # obtain the DFT of the zero padded signal\n",
    "    \n",
    "    # obtain the frequency mapping and shifted spectrum\n",
    "    f,mX =   \n",
    "    \n",
    "    return mX,f"
   ]
  },
  {
   "cell_type": "code",
   "execution_count": null,
   "metadata": {},
   "outputs": [],
   "source": [
    "# Define the sampling rate and the signal\n",
    "\n",
    "\n",
    "# Find DFT without zero padding and plot the result\n",
    "\n",
    "\n",
    "# Find DFT after zero padding and plot the result\n"
   ]
  }
 ],
 "metadata": {
  "kernelspec": {
   "display_name": "Python 3",
   "language": "python",
   "name": "python3"
  },
  "language_info": {
   "codemirror_mode": {
    "name": "ipython",
    "version": 3
   },
   "file_extension": ".py",
   "mimetype": "text/x-python",
   "name": "python",
   "nbconvert_exporter": "python",
   "pygments_lexer": "ipython3",
   "version": "3.5.2"
  }
 },
 "nbformat": 4,
 "nbformat_minor": 2
}
