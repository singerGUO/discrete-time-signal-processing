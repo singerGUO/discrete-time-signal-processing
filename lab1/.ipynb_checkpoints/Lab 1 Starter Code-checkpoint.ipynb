{
 "cells": [
  {
   "cell_type": "markdown",
   "metadata": {},
   "source": [
    "# Lab 1 - Introduction to Discrete Time Signals and Systems\n",
    "\n",
    "Instructor: Prof. Lillian Jane Ratliff\n",
    "\n",
    "Teaching Assistants: Ashwin Srinivas Badrinath and Kevin Lin"
   ]
  },
  {
   "cell_type": "markdown",
   "metadata": {},
   "source": [
    "Team Members: "
   ]
  },
  {
   "cell_type": "code",
   "execution_count": 2,
   "metadata": {},
   "outputs": [],
   "source": [
    "%matplotlib inline\n",
    "import matplotlib\n",
    "import matplotlib.pyplot as plt\n",
    "import numpy as np\n",
    "import IPython\n",
    "from scipy.io import wavfile\n",
    "import matplotlib.pyplot as plt\n",
    "import scipy.signal\n",
    "from scipy import *\n",
    "import copy\n",
    "import pylab as pl\n",
    "from scipy import signal\n",
    "import time as t\n",
    "from IPython import display"
   ]
  },
  {
   "cell_type": "markdown",
   "metadata": {},
   "source": [
    "# 1) Implementing Discrete Time Filters to Filter Time-Series Data\n",
    "\n",
    "In this part, we will be looking at various discrete time filters and how they are used to make more sense of time-series data. These are very common, basic and helpful operations that one encounters in anything related to signal processing."
   ]
  },
  {
   "cell_type": "markdown",
   "metadata": {},
   "source": [
    "## Implementing a Mean Filter"
   ]
  },
  {
   "cell_type": "code",
   "execution_count": 37,
   "metadata": {},
   "outputs": [
    {
     "data": {
      "image/png": "[encoded data removed]",
      "text/plain": [
       "<Figure size 432x288 with 1 Axes>"
      ]
     },
     "metadata": {
      "needs_background": "light"
     },
     "output_type": "display_data"
    },
    {
     "data": {
      "image/png": "[encoded data removed]",
      "text/plain": [
       "<Figure size 432x288 with 1 Axes>"
      ]
     },
     "metadata": {
      "needs_background": "light"
     },
     "output_type": "display_data"
    },
    {
     "data": {
      "image/png": "[encoded data removed]",
      "text/plain": [
       "<Figure size 432x288 with 1 Axes>"
      ]
     },
     "metadata": {
      "needs_background": "light"
     },
     "output_type": "display_data"
    }
   ],
   "source": [
    "\n",
    "# choose relevant parameters\n",
    "srate = 1000 # sampling rate in Hz\n",
    "time  = np.arange(0,3,1/srate) # associated time vector that corresponds to 3 seconds\n",
    "n     = len(time) # length of the time vector\n",
    "p     = 15 # poles for random interpolation\n",
    "pi = np.pi # value of pi\n",
    "\n",
    "# here are some base signals to work with\n",
    "# within the know dataset  and have a linespace\n",
    "base1 = np.interp(np.linspace(0,p,n),np.arange(0,p),np.random.rand(p)*30)\n",
    "base2 = 5*np.sin(2*pi*5*time)\n",
    "\n",
    "# create some random noise to be added to the abve base signals\n",
    "#todo create some random noise\n",
    "noise =np.random.normal(0,1,np.shape(base1))\n",
    "\n",
    "# add noise to the base signals to create new noisy signals\n",
    "signal1 = base1 + noise\n",
    "signal2 = base2 + noise\n",
    "signalFilter1=signal1\n",
    "signalFilter2=signal2\n",
    "# implement the running mean filter\n",
    "\n",
    "filtsig1 = np.zeros(n) # initialize filtered signal vector for signal 1\n",
    "filtsig2 = np.zeros(n) # initialize filtered signal vector for signal 2\n",
    "\n",
    "#TO DO: finish your implementation of the running mean filter\n",
    "k=20\n",
    "\n",
    "for i in range(k,len(signal1)-1-k):\n",
    "    signalFilter1[i]=np.mean(signal1[i-k:i+k])\n",
    "    \n",
    "    \n",
    "for i in range(k,len(signal2)-1-k):\n",
    "    signalFilter2[i]=np.mean(signal2[i-k:i+k])    \n",
    "    \n",
    "#subplot\n",
    "\n",
    "\n",
    "fig1=plt.figure(1)\n",
    "fig1.subplots_adjust(hspace=1, wspace=1)\n",
    "\n",
    "plt.subplot(3,1,1)\n",
    "#T is a range\n",
    "plt.plot(base1)\n",
    "\n",
    "plt.title('origianl signal')\n",
    "plt.xlabel('')\n",
    "plt.ylim(0, 30)\n",
    "plt.xlim(0, 3)\n",
    "plt.show()\n",
    "\n",
    "plt.subplot(3,1,2)\n",
    "plt.plot(signal1)\n",
    "\n",
    "plt.title('Noisy signal')\n",
    "plt.ylim(0, 30)\n",
    "plt.xlim(0, 3)\n",
    "plt.show()\n",
    "\n",
    "plt.subplot(3,1,3)\n",
    "plt.plot(signalFilter1,label='filtered')\n",
    "plt.plot(signal1,label='noise')\n",
    "\n",
    "plt.title('Noisy and filtered Signal')\n",
    "plt.ylim(0, 30)\n",
    "plt.xlim(0, 3)\n",
    "plt.show()\n",
    "\n",
    "\n",
    "\n",
    "    \n",
    "\n",
    "# compute the time window size in ms and print it\n",
    "#windowsize = # TO DO: compute the duration of the time-window that \n",
    "# slides across the signal in ms\n",
    "#print(\"The time window size used was \",windowsize,\"ms\")\n",
    "\n",
    "# TO DO: plot the required plots\n",
    "\n",
    "# For base signal 1:\n",
    "# In a single plot and three subplots, plot the original signal, noisy signal and \n",
    "# filtered signal overliad on the noisy signal to see the difference\n",
    "\n",
    "# For base signal 2:\n",
    "# In a single plot and three subplots, plot the original signal, noisy signal and \n",
    "# filtered signal overliad on the noisy signal to see the difference"
   ]
  },
  {
   "cell_type": "markdown",
   "metadata": {},
   "source": [
    "### Discussion"
   ]
  },
  {
   "cell_type": "markdown",
   "metadata": {},
   "source": [
    "## Implementing a Median Filter to Remove Spikes"
   ]
  },
  {
   "cell_type": "code",
   "execution_count": null,
   "metadata": {},
   "outputs": [],
   "source": [
    "# create signal\n",
    "n = 2000\n",
    "signal = np.cumsum(np.random.randn(n))\n",
    "\n",
    "# proportion of time points to replace with noise\n",
    "propnoise = .05\n",
    "\n",
    "# find noise points\n",
    "noisepnts = np.random.permutation(n)\n",
    "noisepnts = noisepnts[0:int(n*propnoise)]\n",
    "\n",
    "# generate signal and replace points with noise\n",
    "signal[noisepnts] = 50+np.random.rand(len(noisepnts))*100\n",
    "\n",
    "fig3=plt.figure(3)\n",
    "plt.plot(range(0,n),signal)\n",
    "\n",
    "# use hist to pick threshold\n",
    "\n",
    "\n",
    "# visual-picked threshold\n",
    "threshold =\n",
    "\n",
    "\n",
    "# find data values above the threshold\n",
    "suprathresh = \n",
    "\n",
    "# initialize filtered signal\n",
    "filtsig = copy.deepcopy(signal)\n",
    "\n",
    "# loop through suprathreshold points and set to median of k\n",
    "k = 20 # actual window is k*2+1\n",
    "for ti in range(0,len(suprathresh)):\n",
    "    # TO DO : finish the for loop to apply the median filter\n",
    "    \n",
    "    \n",
    "\n",
    "# TO DO: plot your results as directed\n"
   ]
  },
  {
   "cell_type": "markdown",
   "metadata": {},
   "source": [
    "### Discussion"
   ]
  },
  {
   "cell_type": "markdown",
   "metadata": {},
   "source": [
    "## Denoising an EMG signal"
   ]
  },
  {
   "cell_type": "code",
   "execution_count": null,
   "metadata": {},
   "outputs": [],
   "source": [
    "# import data\n",
    "emgdata = scipy.io.loadmat('EMG.mat')\n",
    "\n",
    "# extract needed variables\n",
    "emgtime = emgdata['emgtime'][0]\n",
    "emg  = emgdata['emg'][0]\n",
    "\n",
    "# initialize filtered signal\n",
    "emgf = copy.deepcopy(emg) # this is where the result of \n",
    "# the TKEO algorithm should be stored\n",
    "\n",
    "# apply the TKEO algorithm\n",
    "\n",
    "# TO DO: You can implement this with a for loop or use a vectorized approach\n",
    "\n",
    "## convert both signals to zscore\n",
    "\n",
    "# find timepoint zero\n",
    "time0 = # TO DO: np.argmin() can come in handy\n",
    "\n",
    "# convert original EMG to z-score from time-zero\n",
    "emgZ = # TO DO:subtract the mean of the emg signal from 0 to time0 from the original emg\n",
    "# and divide that by the standard deviation of the signal from 0 to time0\n",
    "\n",
    "# same for filtered EMG energy\n",
    "emgZf = # TO DO: Repeat for the filtered signal\n",
    "\n",
    "\n",
    "# TO DO: plot your results as directed\n",
    "\n"
   ]
  },
  {
   "cell_type": "markdown",
   "metadata": {},
   "source": [
    "### Discussion"
   ]
  },
  {
   "cell_type": "markdown",
   "metadata": {},
   "source": [
    "# 2) Convolution\n",
    "\n",
    "In this section you will be implementing your own convolution sum and plotting an animated plot that shows the process unfolding."
   ]
  },
  {
   "cell_type": "code",
   "execution_count": null,
   "metadata": {},
   "outputs": [],
   "source": [
    "# define the basic signal generating functions\n",
    "def u(t): # this returns a step signal\n",
    "    # TO DO: finish the step function without using any extra libraries\n",
    "def r(t): # this return a ramp signal\n",
    "    # TO DO: finish the ramp function without using any extra libraries"
   ]
  },
  {
   "cell_type": "code",
   "execution_count": null,
   "metadata": {},
   "outputs": [],
   "source": [
    "# TO DO: fill in the signal and kernel below as directed\n",
    "\n",
    "# Use a 4s long ramp sampled at 10 samples/s for the signal\n",
    "# Use a 4s long step signal for the kernel\n",
    "\n",
    "#signal\n",
    "signal1=\n",
    "\n",
    "# convolution kernel\n",
    "kernel = \n",
    "\n",
    "# convolution sizes\n",
    "nSign = len(signal1)\n",
    "nKern = len(kernel)\n",
    "nConv = nSign + nKern - 1\n",
    "\n",
    "## convolution in animation\n",
    "\n",
    "half_kern = int( np.floor(nKern/2) )\n",
    "\n",
    "# flipped version of kernel\n",
    "kflip = kernel[::-1] #-np.mean(kernel)\n",
    "\n",
    "# zero-padded data for convolution\n",
    "dat4conv = np.concatenate( (np.zeros(half_kern),signal1,np.zeros(half_kern)) ,axis=0)\n",
    "\n",
    "# initialize convolution output\n",
    "conv_res = np.zeros(nConv)\n",
    "\n",
    "\n",
    "# run convolution\n",
    "for ti in range(half_kern,nConv-half_kern):\n",
    "    \n",
    "    # get a chunk of data\n",
    "    tempdata = # TO DO: store the slice of th signal for the current time step\n",
    "    \n",
    "    # compute dot product (don't forget to flip the kernel backwards!)\n",
    "    conv_res[ti] = # TO DO: store the rsult of the convolution sum here\n",
    "    \n",
    "    # draw plot\n",
    "    pl.cla() # clear the axis\n",
    "    plt.plot(signal1)\n",
    "    plt.plot(np.arange(ti-half_kern,ti+half_kern+1),kflip)\n",
    "    plt.plot(np.arange(half_kern+1,ti),conv_res[half_kern+1:ti])\n",
    "    plt.xlim([0,nConv+1])\n",
    "    \n",
    "    \n",
    "    display.clear_output(wait=True)\n",
    "    display.display(pl.gcf())\n",
    "    t.sleep(.01)\n",
    "    \n",
    "\n",
    "# cut off edges\n",
    "conv_res = conv_res[half_kern:-half_kern]"
   ]
  },
  {
   "cell_type": "markdown",
   "metadata": {},
   "source": [
    "### Discussion"
   ]
  },
  {
   "cell_type": "markdown",
   "metadata": {},
   "source": [
    "# 3) Analog vs Digital Transmission\n",
    "\n",
    "This section is meant to begin the Analog vs Digital comparison and get you thinking about why we bother with discrete signals. One reason is that signal processing and computation is all done on computers wich operate using digital circuitry and hence are discrete. Even otherwise, the nature of digital signals still makes them more advantageous to use in quite a lot of cases.\n",
    "\n",
    "\n"
   ]
  },
  {
   "cell_type": "code",
   "execution_count": null,
   "metadata": {},
   "outputs": [],
   "source": [
    "rate, s = wavfile.read('speech.wav')\n",
    "plt.plot(s);\n",
    "IPython.display.Audio(s, rate=rate)"
   ]
  },
  {
   "cell_type": "code",
   "execution_count": 4,
   "metadata": {},
   "outputs": [],
   "source": [
    "# the analog signal is simply rescaled between -100 and +100\n",
    "# largest element in magnitude:\n",
    "norm = 1.0 / max(np.absolute([min(s), max(s)])) # the normalizing factor\n",
    "sA = 100.0 * s * norm # the \"analog\" signal\n",
    "\n",
    "# the digital version is clamped to the integers\n",
    "sD = np.round(sA) # the \"digital\" signal"
   ]
  },
  {
   "cell_type": "code",
   "execution_count": null,
   "metadata": {},
   "outputs": [],
   "source": [
    "# TO DO: plot the difference between the analog and digital signal \n"
   ]
  },
  {
   "cell_type": "code",
   "execution_count": null,
   "metadata": {},
   "outputs": [],
   "source": [
    "# function to calculate SNR\n",
    "def SNR(noisy, original):\n",
    "    # power of the error\n",
    "    err = # TO DO: use np.linalg.norm() to find the power of the noisy signal\n",
    "    # power of the signal\n",
    "    sig = # TO DO: use np.linalg.norm() to find the power of the original signal\n",
    "    # SNR in dBs\n",
    "    snr = # TO DO: return the log (base 10) of the ratio and aplify if by a factor of 10\n",
    "    return snr \n",
    "       \n",
    "# TO DO: print the snr of the signal a directed"
   ]
  },
  {
   "cell_type": "code",
   "execution_count": null,
   "metadata": {},
   "outputs": [],
   "source": [
    "def repeater(x, noise_amplitude, attenuation):\n",
    "    # first, create the noise\n",
    "    noise = np.random.uniform(-noise_amplitude, noise_amplitude, len(x))\n",
    "    # TO DO: fill in the steps as directed by the documentation:\n",
    "    \n",
    "    # attenuation\n",
    "  \n",
    "    # noise\n",
    "   \n",
    "    # gain compensation\n",
    "    return ??"
   ]
  },
  {
   "cell_type": "code",
   "execution_count": null,
   "metadata": {},
   "outputs": [],
   "source": [
    "def analog_tx(x, num_repeaters, noise_amplitude, attenuation):\n",
    "# TO DO: modify x to represent analog transmission over the given number of repeaters\n",
    "    return x"
   ]
  },
  {
   "cell_type": "code",
   "execution_count": null,
   "metadata": {},
   "outputs": [],
   "source": [
    "def digital_tx(x, num_repeaters, noise_amplitude, attenuation):\n",
    "# TO DO: modify x to represent digital transmission over the given number of repeaters\n",
    "# hint: np.round() will come in handy when you're trying \n",
    "# to round your signals values to the nearest integer\n",
    "    return x"
   ]
  },
  {
   "cell_type": "code",
   "execution_count": null,
   "metadata": {},
   "outputs": [],
   "source": [
    "# keep these parameters\n",
    "NUM_REPEATERS = 20\n",
    "NOISE_AMPLITUDE = 0.2\n",
    "ATTENUATION = 0.5\n",
    "\n",
    "# TO DO: find the final signal that is recieved after transmission and store the \n",
    "# \"analog\" and \"digital\" versions in yA and yB respectively and print the SNR\n",
    "\n",
    "yA =\n",
    "\n",
    "yD = "
   ]
  },
  {
   "cell_type": "markdown",
   "metadata": {},
   "source": [
    "### Discussion"
   ]
  },
  {
   "cell_type": "code",
   "execution_count": null,
   "metadata": {},
   "outputs": [],
   "source": [
    "# choose relevant parameters\n",
    "srate = 1000 # sampling rate in Hz\n",
    "time  = np.arange(0,3,1/srate) # associated time vector that corresponds to 3 seconds\n",
    "n     = len(time) # length of the time vector\n",
    "p     = 15 # poles for random interpolation\n",
    "pi = np.pi # value of pi\n",
    "\n",
    "# here are some base signals to work with\n",
    "# within the know dataset  and have a linespace\n",
    "base1 = np.interp(np.linspace(0,p,n),np.arange(0,p),np.random.rand(p)*30)\n",
    "base2 = 5*np.sin(2*pi*5*time)\n",
    "\n",
    "# create some random noise to be added to the abve base signals\n",
    "#todo create some random noise\n",
    "noise =np.random.normal(0,1,np.shape(base1))\n",
    "\n",
    "# add noise to the base signals to create new noisy signals\n",
    "signal1 = base1 + noise\n",
    "signal2 = base2 + noise\n",
    "signalFilter1=signal1\n",
    "# implement the running mean filter\n",
    "\n",
    "filtsig1 = np.zeros(n) # initialize filtered signal vector for signal 1\n",
    "filtsig2 = np.zeros(n) # initialize filtered signal vector for signal 2\n",
    "\n",
    "#TO DO: finish your implementation of the running mean filter\n",
    "k=20\n",
    "\n",
    "for i in range(k,len(signal1)-1-k):\n",
    "    signalFilter1[i]=np.mean(signal1[i-k:i+k])\n",
    "    \n",
    "    \n",
    "for i in range(k,len(signal2)-1-k):\n",
    "    signal2[i]=np.mean(signal2[i-k:i+k])    \n",
    "    \n",
    "#subplot\n",
    "t = np.arange(0, 0.5, 3)\n",
    "\n",
    "fig1=plt.figure(1)\n",
    "fig1.subplots_adjust(hspace=1, wspace=1)\n",
    "plt.subplot(3,1,1)\n",
    "#T is a range\n",
    "plt.plot(base1)\n",
    "\n",
    "plt.title('origianl signal')\n",
    "plt.ylim(0, 30)\n",
    "plt.xlim(0, 3)\n",
    "plt.show()\n",
    "\n",
    "plt.subplot(3,1,2)\n",
    "plt.plot(signal1)\n",
    "\n",
    "plt.title('Noisy signal')\n",
    "plt.ylim(0, 30)\n",
    "plt.xlim(0, 3)\n",
    "plt.show()\n",
    "\n",
    "plt.subplot(3,1,3)\n",
    "plt.plot(signalFilter1)\n",
    "\n",
    "plt.title('Noisy and filtered Signal')\n",
    "plt.ylim(0, 30)\n",
    "plt.xlim(0, 3)\n",
    "plt.show()\n",
    "    "
   ]
  }
 ],
 "metadata": {
  "kernelspec": {
   "display_name": "Python 3",
   "language": "python",
   "name": "python3"
  },
  "language_info": {
   "codemirror_mode": {
    "name": "ipython",
    "version": 3
   },
   "file_extension": ".py",
   "mimetype": "text/x-python",
   "name": "python",
   "nbconvert_exporter": "python",
   "pygments_lexer": "ipython3",
   "version": "3.7.1"
  }
 },
 "nbformat": 4,
 "nbformat_minor": 2
}
